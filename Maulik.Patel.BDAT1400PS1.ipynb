{
 "cells": [
  {
   "cell_type": "markdown",
   "id": "3da547b0",
   "metadata": {},
   "source": [
    "# Question 1\n",
    "\n",
    "### What data type is each of the following?"
   ]
  },
  {
   "cell_type": "code",
   "execution_count": 1,
   "id": "441a5dd3",
   "metadata": {},
   "outputs": [
    {
     "name": "stdout",
     "output_type": "stream",
     "text": [
      "data type of 5: <class 'int'>\n",
      "data type of 5.0: <class 'float'>\n",
      "data type of 5 > 1: <class 'bool'>\n",
      "data type of 5 * 2: <class 'int'>\n",
      "data type of '5' * 2: <class 'str'>\n",
      "data type of '5' + '2': <class 'str'>\n",
      "data type of 5 / 2: <class 'float'>\n",
      "data type of 5 % 2: <class 'int'>\n",
      "data type of {5,2,1}: <class 'set'>\n",
      "data type of 5 == 3: <class 'bool'>\n"
     ]
    }
   ],
   "source": [
    "print(\"data type of 5:\",type(5))\n",
    "print(\"data type of 5.0:\",type(5.0))\n",
    "print(\"data type of 5 > 1:\",type(5 > 1))\n",
    "print(\"data type of 5 * 2:\",type(5 * 2))\n",
    "print(\"data type of '5' * 2:\",type('5' * 2))\n",
    "print(\"data type of '5' + '2':\",type('5' + '2'))\n",
    "print(\"data type of 5 / 2:\",type(5 / 2))\n",
    "print(\"data type of 5 % 2:\",type(5 % 2))\n",
    "print(\"data type of {5,2,1}:\",type({5,2,1}))\n",
    "print(\"data type of 5 == 3:\",type(5 == 3))"
   ]
  },
  {
   "cell_type": "code",
   "execution_count": 2,
   "id": "a3b25123",
   "metadata": {},
   "outputs": [
    {
     "name": "stdout",
     "output_type": "stream",
     "text": [
      "data type of 3.141592653589793 : <class 'float'>\n"
     ]
    }
   ],
   "source": [
    "import math\n",
    "print(\"data type of\",math.pi, \":\", type(math.pi))"
   ]
  },
  {
   "cell_type": "markdown",
   "id": "8950694d",
   "metadata": {},
   "source": [
    "# Question 2"
   ]
  },
  {
   "cell_type": "markdown",
   "id": "d359cb92",
   "metadata": {},
   "source": [
    "### a. How many letters are there in 'Supercalifragilisticexpialidocious'?"
   ]
  },
  {
   "cell_type": "code",
   "execution_count": 3,
   "id": "529626d9",
   "metadata": {},
   "outputs": [
    {
     "name": "stdout",
     "output_type": "stream",
     "text": [
      "Letters in string:  34\n"
     ]
    }
   ],
   "source": [
    "letters_in_strng = 'Supercalifragilisticexpialidocious'\n",
    "print(\"Letters in string: \",len(letters_in_strng))"
   ]
  },
  {
   "cell_type": "markdown",
   "id": "04aa14d0",
   "metadata": {},
   "source": [
    "### b. Does 'Supercalifragilisticexpialidocious' contain 'ice' as a substring?"
   ]
  },
  {
   "cell_type": "code",
   "execution_count": 4,
   "id": "f0233edf",
   "metadata": {},
   "outputs": [
    {
     "name": "stdout",
     "output_type": "stream",
     "text": [
      "True\n"
     ]
    }
   ],
   "source": [
    "#Checking for the string ice\n",
    "ice = bool(letters_in_strng.find('ice'))\n",
    "print(ice)"
   ]
  },
  {
   "cell_type": "markdown",
   "id": "6c0afbfd",
   "metadata": {},
   "source": [
    "### c. Which of the following words is the longest: Supercalifragilisticexpialidocious, Honorificabilitudinitatibus, or Bababadalgharaghtakamminarronnkonn?"
   ]
  },
  {
   "cell_type": "code",
   "execution_count": 5,
   "id": "f7d0ea5d",
   "metadata": {},
   "outputs": [
    {
     "name": "stdout",
     "output_type": "stream",
     "text": [
      "Longest Word: Supercalifragilisticexpialidocious\n",
      "Length of Longest word: 34\n"
     ]
    }
   ],
   "source": [
    "longest_word = max('Supercalifragilisticexpialidocious', ' Honorificabilitudinitatibus', 'Bababadalgharaghtakamminarronnkonn')\n",
    "print(\"Longest Word:\", longest_word)\n",
    "print(\"Length of Longest word:\", len(longest_word))"
   ]
  },
  {
   "cell_type": "markdown",
   "id": "6d2a2128",
   "metadata": {},
   "source": [
    "### d. Which composer comes first in the dictionary: 'Berlioz', 'Borodin', 'Brian', 'Bartok', 'Bellini', 'Buxtehude', 'Bernstein'. Which one comes last?"
   ]
  },
  {
   "cell_type": "code",
   "execution_count": 6,
   "id": "8be5561e",
   "metadata": {},
   "outputs": [],
   "source": [
    "dict = ['Berlioz', 'Borodin', 'Brian', 'Bartok', 'Bellini', 'Buxtehude', 'Bernstein']"
   ]
  },
  {
   "cell_type": "code",
   "execution_count": 7,
   "id": "60fc773f",
   "metadata": {},
   "outputs": [],
   "source": [
    "# Sorting the contents in the dictionary \n",
    "dict.sort()"
   ]
  },
  {
   "cell_type": "code",
   "execution_count": 8,
   "id": "c9dd80d7",
   "metadata": {},
   "outputs": [
    {
     "name": "stdout",
     "output_type": "stream",
     "text": [
      "First composer in the dictionary:  Bartok \n",
      "Last composer in the dictionary:  Buxtehude\n"
     ]
    }
   ],
   "source": [
    "print(\"First composer in the dictionary: \", dict[0], \"\\nLast composer in the dictionary: \", dict[-1])"
   ]
  },
  {
   "cell_type": "markdown",
   "id": "010bf259",
   "metadata": {},
   "source": [
    "# Question 3"
   ]
  },
  {
   "cell_type": "markdown",
   "id": "53e27eea",
   "metadata": {},
   "source": [
    "### Implement function triangleArea(a,b,c) that takes as input the lengths of the 3 sides of a triangle and returns the area of the triangle. By Heron's formula, the area of a triangle with side lengths a, b, and c is s(s − a)(s −b)(s −c), wheres = (a + b + c)/2."
   ]
  },
  {
   "cell_type": "code",
   "execution_count": 9,
   "id": "91bece56",
   "metadata": {},
   "outputs": [],
   "source": [
    "import math\n",
    "def triangleArea(a,b,c):\n",
    "    s = (a + b + c) / 2\n",
    "    areaoftriangle = math.sqrt(s * (s - a) * (s - b) * (s - c))\n",
    "    return areaoftriangle"
   ]
  },
  {
   "cell_type": "code",
   "execution_count": 10,
   "id": "8a44c165",
   "metadata": {},
   "outputs": [
    {
     "name": "stdout",
     "output_type": "stream",
     "text": [
      "a:2\n",
      "b:2\n",
      "c:2\n",
      "triangleArea (2, 2, 2) = 1.7320508075688772\n"
     ]
    }
   ],
   "source": [
    "a = int(input('a:'))\n",
    "b = int(input('b:'))\n",
    "c = int(input('c:'))\n",
    "print(f\"triangleArea {a, b, c} = {triangleArea(a,b,c)}\")"
   ]
  },
  {
   "cell_type": "markdown",
   "id": "930613ee",
   "metadata": {},
   "source": [
    "# Question 4"
   ]
  },
  {
   "cell_type": "markdown",
   "id": "f2e4ac8c",
   "metadata": {},
   "source": [
    "### Write a program in python to separate odd and even integers in separate arrays."
   ]
  },
  {
   "cell_type": "code",
   "execution_count": 11,
   "id": "a2524fd5",
   "metadata": {},
   "outputs": [
    {
     "name": "stdout",
     "output_type": "stream",
     "text": [
      "Enter a list of numbers separated by spaces: 25 47 42 56 32\n",
      "Even numbers: [42, 56, 32]\n",
      "Odd numbers: [25, 47]\n"
     ]
    }
   ],
   "source": [
    "# Initialize the empty lists\n",
    "even_numbers = [] #for even numbers\n",
    "odd_numbers = [] #for odd numbers\n",
    "\n",
    "# Asking for the input of numbers\n",
    "numbers = [int(x) for x in input(\"Enter a list of numbers separated by spaces: \").split()]\n",
    "\n",
    "# Separating even and odd numbers\n",
    "for num in numbers:\n",
    "    if num % 2 == 0:\n",
    "        even_numbers.append(num)\n",
    "    else:\n",
    "        odd_numbers.append(num)\n",
    "\n",
    "print(\"Even numbers:\", even_numbers)\n",
    "print(\"Odd numbers:\", odd_numbers)"
   ]
  },
  {
   "cell_type": "markdown",
   "id": "17a331cb",
   "metadata": {},
   "source": [
    "# Question 5"
   ]
  },
  {
   "cell_type": "markdown",
   "id": "b305e8a7",
   "metadata": {},
   "source": [
    "### a. Write a function inside(x,y,x1,y1,x2,y2) that returns True or False  dependingonwhetherthepoint(x,y)liesintherectanglewithlowerleft corner (x1,y1) and upper right corner (x2,y2)"
   ]
  },
  {
   "cell_type": "code",
   "execution_count": 12,
   "id": "3a155ad8",
   "metadata": {},
   "outputs": [],
   "source": [
    "def inside(x, y, x1, y1, x2, y2):\n",
    "    if x >= x1 and x <= x2 and y >= y1 and y <= y2:\n",
    "        return True\n",
    "    else:\n",
    "        return False"
   ]
  },
  {
   "cell_type": "code",
   "execution_count": 13,
   "id": "42f6390b",
   "metadata": {},
   "outputs": [
    {
     "name": "stdout",
     "output_type": "stream",
     "text": [
      "x: 1\n",
      "y: 1\n",
      "x1: 0\n",
      "y1: 0\n",
      "x2: 2\n",
      "y2: 3\n",
      "True\n"
     ]
    }
   ],
   "source": [
    "x,y,x1,y1,x2,y2 = input('x: '), input('y: '), input('x1: '), input('y1: '), input('x2: '), input('y2: ')\n",
    "print(inside(x,y,x1,y1,x2,y2))"
   ]
  },
  {
   "cell_type": "markdown",
   "id": "a229910a",
   "metadata": {},
   "source": [
    "### b. Use function inside()from part a. to write an expression that tests whether the point (1,1) lies in both of the following rectangles: one with lower left corner (0.3, 0.5) and upper right corner (1.1, 0.7) and the other with lower left corner (0.5, 0.2) and upper right corner (1.1, 2)."
   ]
  },
  {
   "cell_type": "code",
   "execution_count": 14,
   "id": "72651ef9",
   "metadata": {},
   "outputs": [
    {
     "name": "stdout",
     "output_type": "stream",
     "text": [
      "Point (1, 1) is not inside both rectangles.\n"
     ]
    }
   ],
   "source": [
    "# Defining the coordinates of the triangle\n",
    "rectangle1 = (0.3, 0.5, 1.1, 0.7)  \n",
    "rectangle2 = (0.5, 0.2, 1.1, 2.0) \n",
    "\n",
    "# Checking for the points (1, 1) if it is inside both rectangles\n",
    "point_x = 1\n",
    "point_y = 1\n",
    "\n",
    "is_inside_rect1 = inside(point_x, point_y, rectangle1[0], rectangle1[1], rectangle1[2], rectangle1[3])\n",
    "is_inside_rect2 = inside(point_x, point_y, rectangle2[0], rectangle2[1], rectangle2[2], rectangle2[3])\n",
    "\n",
    "if is_inside_rect1 and is_inside_rect2:\n",
    "    print(f\"Point ({point_x}, {point_y}) is inside both rectangles.\")\n",
    "else:\n",
    "    print(f\"Point ({point_x}, {point_y}) is not inside both rectangles.\")"
   ]
  },
  {
   "cell_type": "markdown",
   "id": "e267c3e9",
   "metadata": {},
   "source": [
    "# Question 6"
   ]
  },
  {
   "cell_type": "markdown",
   "id": "903e3399",
   "metadata": {},
   "source": [
    "### Write a function pig() that takes a word (i.e., a string) as input and returns its pig Latin form. Your function should still work if the input word contains upper case characters."
   ]
  },
  {
   "cell_type": "code",
   "execution_count": 15,
   "id": "3da798e3",
   "metadata": {},
   "outputs": [
    {
     "name": "stdout",
     "output_type": "stream",
     "text": [
      "appyhay\n",
      "enterway\n"
     ]
    }
   ],
   "source": [
    "def pig(word):\n",
    "    word = word.lower() # Converting the word to lowercase\n",
    "\n",
    "    vowels = {'a', 'e', 'i', 'o', 'u'} # Defining a set of vowels\n",
    "\n",
    "    if word[0] not in vowels: # Checking if the word starts with a consonant or not\n",
    "        index = 0  # Find the index of the first vowel\n",
    "        while index < len(word) and word[index] not in vowels:\n",
    "            index += 1\n",
    "\n",
    "        \n",
    "        return word[index:] + word[:index] + 'ay' # Rearranging the word and appending 'ay'\n",
    "    else:\n",
    "        return word + 'way' # If it starts with a vowel, then append 'way'\n",
    "\n",
    "print(pig('happy'))  \n",
    "print(pig('Enter'))"
   ]
  },
  {
   "cell_type": "markdown",
   "id": "dca8e11c",
   "metadata": {},
   "source": [
    "# Question 7"
   ]
  },
  {
   "cell_type": "markdown",
   "id": "0ecf1b57",
   "metadata": {},
   "source": [
    "### File bloodtype1.txt records blood-types of patients (A, B, AB, O or OO) at a clinic. Write a function bldcount() that reads the file with name name and reports (i.e., prints) how many patients there are in each bloodtype."
   ]
  },
  {
   "cell_type": "code",
   "execution_count": 16,
   "id": "ebac7ba1",
   "metadata": {},
   "outputs": [
    {
     "name": "stdout",
     "output_type": "stream",
     "text": [
      "There are 15 patients of A\n",
      "There are 1 patients of B\n",
      "There are 13 patients of AB\n",
      "There are 15 patients of O\n",
      "There are 0 patients of OO\n"
     ]
    }
   ],
   "source": [
    "def blud_count(filename):\n",
    "    blood_count = {\n",
    "        'A': 0,\n",
    "        'B': 0,\n",
    "        'AB': 0,\n",
    "        'O': 0,\n",
    "        'OO': 0\n",
    "    }\n",
    "    \n",
    "    with open(filename, 'r') as file:\n",
    "        for line in file:\n",
    "            blood_type = line.split()\n",
    "            for i in blood_type:\n",
    "                if i in blood_count:\n",
    "                    blood_count[i] += 1\n",
    "    \n",
    "    for blood_type, count in blood_count.items():\n",
    "        print(f\"There are {count} patients of {blood_type}\")\n",
    "\n",
    "blud_count('bloodtype1.txt')"
   ]
  },
  {
   "cell_type": "markdown",
   "id": "ae6a4b84",
   "metadata": {},
   "source": [
    "# Question 8"
   ]
  },
  {
   "cell_type": "markdown",
   "id": "b0b862c9",
   "metadata": {},
   "source": [
    "### Write a function curconv() that takes as input:\n",
    "### 1. a currency represented using a string (e.g., 'JPY' for the Japanese Yen or 'EUR' for the Euro)\n",
    "### 2. an amount and then converts and returns the amount in US dollars."
   ]
  },
  {
   "cell_type": "code",
   "execution_count": 23,
   "id": "a74d04db",
   "metadata": {},
   "outputs": [
    {
     "name": "stdout",
     "output_type": "stream",
     "text": [
      "Euro to US dollars: 122.96544\n",
      "Japanese Yen to US dollars: 1.241401\n"
     ]
    }
   ],
   "source": [
    "def curconv(currency, amount):\n",
    "    conversion_rates = {}  # Initialize dictionary to store the currency conversion rates\n",
    "\n",
    "    try:\n",
    "        with open('currencies.txt', 'r') as file: # Open the currency file for reading\n",
    "            for line in file:\n",
    "                parts = line.split() # Split the line into currency code, rate and description\n",
    "                if len(parts) >= 2:\n",
    "                    currency_code = parts[0]\n",
    "                    conversion_rate = float(parts[1])\n",
    "                    conversion_rates[currency_code] = conversion_rate\n",
    "\n",
    "        \n",
    "        if currency in conversion_rates: # checking if the input currency code is valid\n",
    "            usd_amount = amount * conversion_rates[currency]\n",
    "            return usd_amount\n",
    "        else:\n",
    "            return f\"Currency code '{currency}' is not found in the exchange rates.\"\n",
    "\n",
    "    except FileNotFoundError:\n",
    "        return \"File 'currencies.txt' not found.\"\n",
    "    except Exception as e:\n",
    "        return f\"An error occurred: {e}\"\n",
    "\n",
    "print(\"Euro to US dollars:\", curconv('EUR', 100))  \n",
    "print(\"Japanese Yen to US dollars:\", curconv('JPY', 100)) "
   ]
  },
  {
   "cell_type": "markdown",
   "id": "9bd48004",
   "metadata": {},
   "source": [
    "# Question 9"
   ]
  },
  {
   "cell_type": "markdown",
   "id": "c6519119",
   "metadata": {},
   "source": [
    "### Each of the following will cause an exception (an error). Identify what type of exception each will cause"
   ]
  },
  {
   "cell_type": "markdown",
   "id": "8c00c538",
   "metadata": {},
   "source": [
    "### Trying to add incompatible variables, as in adding 6 + ‘a’"
   ]
  },
  {
   "cell_type": "code",
   "execution_count": 18,
   "id": "a07dead2",
   "metadata": {},
   "outputs": [
    {
     "ename": "TypeError",
     "evalue": "unsupported operand type(s) for +: 'int' and 'str'",
     "output_type": "error",
     "traceback": [
      "\u001b[1;31m---------------------------------------------------------------------------\u001b[0m",
      "\u001b[1;31mTypeError\u001b[0m                                 Traceback (most recent call last)",
      "Cell \u001b[1;32mIn[18], line 2\u001b[0m\n\u001b[0;32m      1\u001b[0m \u001b[38;5;66;03m# TypeError\u001b[39;00m\n\u001b[1;32m----> 2\u001b[0m \u001b[38;5;28mprint\u001b[39m(\u001b[38;5;28msum\u001b[39m(\u001b[38;5;241;43m6\u001b[39;49m\u001b[43m \u001b[49m\u001b[38;5;241;43m+\u001b[39;49m\u001b[43m \u001b[49m\u001b[38;5;124;43m'\u001b[39;49m\u001b[38;5;124;43ma\u001b[39;49m\u001b[38;5;124;43m'\u001b[39;49m))\n",
      "\u001b[1;31mTypeError\u001b[0m: unsupported operand type(s) for +: 'int' and 'str'"
     ]
    }
   ],
   "source": [
    "# TypeError\n",
    "print(sum(6 + 'a'))"
   ]
  },
  {
   "cell_type": "markdown",
   "id": "7c5bc152",
   "metadata": {},
   "source": [
    "### Referring to the 12th item of a list that has only 10 items"
   ]
  },
  {
   "cell_type": "code",
   "execution_count": 24,
   "id": "a1b2fd9d",
   "metadata": {},
   "outputs": [
    {
     "ename": "IndexError",
     "evalue": "list index out of range",
     "output_type": "error",
     "traceback": [
      "\u001b[1;31m---------------------------------------------------------------------------\u001b[0m",
      "\u001b[1;31mIndexError\u001b[0m                                Traceback (most recent call last)",
      "Cell \u001b[1;32mIn[24], line 3\u001b[0m\n\u001b[0;32m      1\u001b[0m \u001b[38;5;66;03m# IndexError\u001b[39;00m\n\u001b[0;32m      2\u001b[0m my_list \u001b[38;5;241m=\u001b[39m [\u001b[38;5;241m1\u001b[39m, \u001b[38;5;241m2\u001b[39m, \u001b[38;5;241m3\u001b[39m, \u001b[38;5;241m4\u001b[39m, \u001b[38;5;241m5\u001b[39m, \u001b[38;5;241m6\u001b[39m, \u001b[38;5;241m7\u001b[39m, \u001b[38;5;241m8\u001b[39m, \u001b[38;5;241m9\u001b[39m, \u001b[38;5;241m10\u001b[39m]\n\u001b[1;32m----> 3\u001b[0m item \u001b[38;5;241m=\u001b[39m \u001b[43mmy_list\u001b[49m\u001b[43m[\u001b[49m\u001b[38;5;241;43m11\u001b[39;49m\u001b[43m]\u001b[49m\n",
      "\u001b[1;31mIndexError\u001b[0m: list index out of range"
     ]
    }
   ],
   "source": [
    "# IndexError\n",
    "my_list = [1, 2, 3, 4, 5, 6, 7, 8, 9, 10]\n",
    "item = my_list[11]"
   ]
  },
  {
   "cell_type": "markdown",
   "id": "fbf6f974",
   "metadata": {},
   "source": [
    "### Using a value that is out ofrange for a function’s input, such as calling math.sqrt(-1.0)"
   ]
  },
  {
   "cell_type": "code",
   "execution_count": 25,
   "id": "79aff271",
   "metadata": {},
   "outputs": [
    {
     "ename": "ValueError",
     "evalue": "math domain error",
     "output_type": "error",
     "traceback": [
      "\u001b[1;31m---------------------------------------------------------------------------\u001b[0m",
      "\u001b[1;31mValueError\u001b[0m                                Traceback (most recent call last)",
      "Cell \u001b[1;32mIn[25], line 3\u001b[0m\n\u001b[0;32m      1\u001b[0m \u001b[38;5;66;03m#ValueError\u001b[39;00m\n\u001b[0;32m      2\u001b[0m \u001b[38;5;28;01mimport\u001b[39;00m \u001b[38;5;21;01mmath\u001b[39;00m\n\u001b[1;32m----> 3\u001b[0m result \u001b[38;5;241m=\u001b[39m \u001b[43mmath\u001b[49m\u001b[38;5;241;43m.\u001b[39;49m\u001b[43msqrt\u001b[49m\u001b[43m(\u001b[49m\u001b[38;5;241;43m-\u001b[39;49m\u001b[38;5;241;43m1.0\u001b[39;49m\u001b[43m)\u001b[49m\n",
      "\u001b[1;31mValueError\u001b[0m: math domain error"
     ]
    }
   ],
   "source": [
    "#ValueError\n",
    "import math\n",
    "result = math.sqrt(-1.0)"
   ]
  },
  {
   "cell_type": "markdown",
   "id": "a1dd35a2",
   "metadata": {},
   "source": [
    "### Using an undeclared variable, such as print(x) when x has not been defined"
   ]
  },
  {
   "cell_type": "code",
   "execution_count": 31,
   "id": "69a1e61e",
   "metadata": {},
   "outputs": [
    {
     "ename": "NameError",
     "evalue": "name 'v' is not defined",
     "output_type": "error",
     "traceback": [
      "\u001b[1;31m---------------------------------------------------------------------------\u001b[0m",
      "\u001b[1;31mNameError\u001b[0m                                 Traceback (most recent call last)",
      "Cell \u001b[1;32mIn[31], line 2\u001b[0m\n\u001b[0;32m      1\u001b[0m \u001b[38;5;66;03m#NameError\u001b[39;00m\n\u001b[1;32m----> 2\u001b[0m \u001b[38;5;28mprint\u001b[39m(\u001b[43mv\u001b[49m)\n",
      "\u001b[1;31mNameError\u001b[0m: name 'v' is not defined"
     ]
    }
   ],
   "source": [
    "#NameError\n",
    "print(v)"
   ]
  },
  {
   "cell_type": "markdown",
   "id": "e9a41ccd",
   "metadata": {},
   "source": [
    "### Trying to open a file that does not exist, such as mistyping the file name or looking in the wrong directory."
   ]
  },
  {
   "cell_type": "code",
   "execution_count": 27,
   "id": "1002ca2f",
   "metadata": {},
   "outputs": [
    {
     "ename": "FileNotFoundError",
     "evalue": "[Errno 2] No such file or directory: 'nonexistent_file.txt'",
     "output_type": "error",
     "traceback": [
      "\u001b[1;31m---------------------------------------------------------------------------\u001b[0m",
      "\u001b[1;31mFileNotFoundError\u001b[0m                         Traceback (most recent call last)",
      "Cell \u001b[1;32mIn[27], line 2\u001b[0m\n\u001b[0;32m      1\u001b[0m \u001b[38;5;66;03m#FileNotFoundError\u001b[39;00m\n\u001b[1;32m----> 2\u001b[0m \u001b[38;5;28;01mwith\u001b[39;00m \u001b[38;5;28;43mopen\u001b[39;49m\u001b[43m(\u001b[49m\u001b[38;5;124;43m'\u001b[39;49m\u001b[38;5;124;43mnonexistent_file.txt\u001b[39;49m\u001b[38;5;124;43m'\u001b[39;49m\u001b[43m,\u001b[49m\u001b[43m \u001b[49m\u001b[38;5;124;43m'\u001b[39;49m\u001b[38;5;124;43mr\u001b[39;49m\u001b[38;5;124;43m'\u001b[39;49m\u001b[43m)\u001b[49m \u001b[38;5;28;01mas\u001b[39;00m file:\n\u001b[0;32m      3\u001b[0m     content \u001b[38;5;241m=\u001b[39m file\u001b[38;5;241m.\u001b[39mread()\n",
      "File \u001b[1;32mC:\\ProgramData\\anaconda3\\lib\\site-packages\\IPython\\core\\interactiveshell.py:282\u001b[0m, in \u001b[0;36m_modified_open\u001b[1;34m(file, *args, **kwargs)\u001b[0m\n\u001b[0;32m    275\u001b[0m \u001b[38;5;28;01mif\u001b[39;00m file \u001b[38;5;129;01min\u001b[39;00m {\u001b[38;5;241m0\u001b[39m, \u001b[38;5;241m1\u001b[39m, \u001b[38;5;241m2\u001b[39m}:\n\u001b[0;32m    276\u001b[0m     \u001b[38;5;28;01mraise\u001b[39;00m \u001b[38;5;167;01mValueError\u001b[39;00m(\n\u001b[0;32m    277\u001b[0m         \u001b[38;5;124mf\u001b[39m\u001b[38;5;124m\"\u001b[39m\u001b[38;5;124mIPython won\u001b[39m\u001b[38;5;124m'\u001b[39m\u001b[38;5;124mt let you open fd=\u001b[39m\u001b[38;5;132;01m{\u001b[39;00mfile\u001b[38;5;132;01m}\u001b[39;00m\u001b[38;5;124m by default \u001b[39m\u001b[38;5;124m\"\u001b[39m\n\u001b[0;32m    278\u001b[0m         \u001b[38;5;124m\"\u001b[39m\u001b[38;5;124mas it is likely to crash IPython. If you know what you are doing, \u001b[39m\u001b[38;5;124m\"\u001b[39m\n\u001b[0;32m    279\u001b[0m         \u001b[38;5;124m\"\u001b[39m\u001b[38;5;124myou can use builtins\u001b[39m\u001b[38;5;124m'\u001b[39m\u001b[38;5;124m open.\u001b[39m\u001b[38;5;124m\"\u001b[39m\n\u001b[0;32m    280\u001b[0m     )\n\u001b[1;32m--> 282\u001b[0m \u001b[38;5;28;01mreturn\u001b[39;00m io_open(file, \u001b[38;5;241m*\u001b[39margs, \u001b[38;5;241m*\u001b[39m\u001b[38;5;241m*\u001b[39mkwargs)\n",
      "\u001b[1;31mFileNotFoundError\u001b[0m: [Errno 2] No such file or directory: 'nonexistent_file.txt'"
     ]
    }
   ],
   "source": [
    "#FileNotFoundError\n",
    "with open('nonexistent_file.txt', 'r') as file:\n",
    "    content = file.read()"
   ]
  },
  {
   "cell_type": "markdown",
   "id": "b13ac389",
   "metadata": {},
   "source": [
    "# Question 10 Python"
   ]
  },
  {
   "cell_type": "markdown",
   "id": "91cd14de",
   "metadata": {},
   "source": [
    "### Write a function called frequencies() that takes a string as its only parameter, and returns a list of integers, showing the number of times each character appears in the text. Your function may ignore any characters that are not in letters."
   ]
  },
  {
   "cell_type": "code",
   "execution_count": 28,
   "id": "f038d418",
   "metadata": {},
   "outputs": [
    {
     "name": "stdout",
     "output_type": "stream",
     "text": [
      "[1, 1, 1, 3, 5, 1, 1, 2, 1, 0, 1, 0, 1, 2, 4, 0, 1, 2, 0, 3, 1, 0, 1, 1, 0, 0]\n"
     ]
    }
   ],
   "source": [
    "def frequencies(text):\n",
    "    letters = 'abcdefghijklmnopqrstuvwxyz'\n",
    "    text = text.lower()  # Convert text to lowercase for case-insensitivity\n",
    "    letter_counts = [0] * 26  # Initialize a list of 26 zeros for each letter\n",
    "\n",
    "    for char in text:\n",
    "        if char in letters:\n",
    "            index = letters.index(char)  # Finding the index of the character in letters\n",
    "            letter_counts[index] += 1\n",
    "\n",
    "    return letter_counts\n",
    "\n",
    "result = frequencies('The quick red fox got bored and went home.')\n",
    "print(result)"
   ]
  },
  {
   "cell_type": "code",
   "execution_count": null,
   "id": "16011443",
   "metadata": {},
   "outputs": [],
   "source": []
  }
 ],
 "metadata": {
  "kernelspec": {
   "display_name": "Python 3 (ipykernel)",
   "language": "python",
   "name": "python3"
  },
  "language_info": {
   "codemirror_mode": {
    "name": "ipython",
    "version": 3
   },
   "file_extension": ".py",
   "mimetype": "text/x-python",
   "name": "python",
   "nbconvert_exporter": "python",
   "pygments_lexer": "ipython3",
   "version": "3.10.9"
  }
 },
 "nbformat": 4,
 "nbformat_minor": 5
}
